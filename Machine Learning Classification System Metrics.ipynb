{
 "cells": [
  {
   "cell_type": "markdown",
   "metadata": {},
   "source": [
    "# DTSC670: Foundations of Machine Learning Models\n",
    "## Module 3\n",
    "## Assignment 6: Classification System Metrics\n",
    "\n",
    "#### Name: Trenton Middleton\n",
    "\n",
    "Begin by writing your name above."
   ]
  },
  {
   "cell_type": "markdown",
   "metadata": {},
   "source": [
    "# Introduction\n",
    "\n",
    "The purpose of this assignment is to familiarize you with the metrics used to measure prediction performance in classification systems.  Suppose there 20 binary observations whose target values are:\n",
    "\n",
    "$$[1, 0, 0, 1, 0, 0, 1, 0, 0, 1, 1, 0, 0, 0, 0, 1, 0, 1, 0, 1]$$\n",
    "\n",
    "Suppose that your machine learning model returns prediction probabilities ([predict_proba()](https://scikit-learn.org/stable/modules/generated/sklearn.linear_model.LogisticRegression.html#sklearn.linear_model.LogisticRegression.predict_proba) in sklearn) of:\n",
    "\n",
    "$$[0.886, 0.375, 0.174, 0.817, 0.574, 0.319, 0.812, 0.314, 0.098, 0.741, 0.847, 0.202, 0.31 , 0.073, 0.179, 0.917, 0.64 , 0.388, 0.116, 0.72]$$\n",
    "\n"
   ]
  },
  {
   "cell_type": "markdown",
   "metadata": {},
   "source": [
    "# Calculate Model Predictions\n",
    "\n",
    "Begin by writing a function from scratch called `predict()` that accepts as input a list of prediction probabilities and a threshold value, and computes the final predictions to be output by the model.  If a prediction probability value is less than or equal to the threshold value, then the prediction is the negative case (i.e. 0).  If a prediction probability value is greater than the threshold value, then the prediction is the positive case (i.e. 1)."
   ]
  },
  {
   "cell_type": "code",
   "execution_count": 1,
   "metadata": {
    "scrolled": true
   },
   "outputs": [],
   "source": [
    "# Define the predict function with an output\n",
    "# If probs >= to thresh then 1 if <= thresh then 0\n",
    "def predict(probs,thresh):\n",
    "    output = []\n",
    "    for i in range(len(probs)):\n",
    "        if probs[i] >= thresh: \n",
    "            output.append(1) \n",
    "        else:\n",
    "            output.append(0)\n",
    "    return output"
   ]
  },
  {
   "cell_type": "markdown",
   "metadata": {},
   "source": [
    "Next, invoke the `predict()` function to calculate the model predictions using the threshold value of 0.5.  Create a variable called `thresh` that has the value 0.5, and create a list of all the prediction probabilities listed in the problem statement above. Name the list of provided prediction probablities `probs`, the threshold value `thresh`, and the list of computed model predictions `preds` in your code."
   ]
  },
  {
   "cell_type": "code",
   "execution_count": 2,
   "metadata": {},
   "outputs": [
    {
     "name": "stdout",
     "output_type": "stream",
     "text": [
      "Model Predictions:  [1, 0, 0, 1, 1, 0, 1, 0, 0, 1, 1, 0, 0, 0, 0, 1, 1, 0, 0, 1]\n"
     ]
    }
   ],
   "source": [
    "# probs and thresh provided from the downloaded sheet\n",
    "probs = [0.886,0.375,0.174,0.817,0.574,0.319,0.812,0.314,0.098,0.741,0.847,\n",
    "         0.202,0.31,0.073,0.179,0.917,0.64,0.388,0.116,0.72]\n",
    "thresh = 0.5\n",
    "\n",
    "# invoke the predict() function of probs and thresh\n",
    "preds = predict(probs, thresh)\n",
    "print(\"Model Predictions: \", preds)\n"
   ]
  },
  {
   "cell_type": "markdown",
   "metadata": {},
   "source": [
    "# Calculate the Model Accuracy\n",
    "\n",
    "Write a function from scratch called `acc_score()` that accepts as input a list of true labels and a list of model predictions, and calculates the model accuracy."
   ]
  },
  {
   "cell_type": "code",
   "execution_count": 3,
   "metadata": {},
   "outputs": [],
   "source": [
    "# Define acc_score to calcualte model accuracy. This finds all True postive and true negative\n",
    "def acc_score(labels,model_prediction):\n",
    "    input = 0\n",
    "    for i in range(len(labels)):\n",
    "        if labels [i] == model_prediction [i]:\n",
    "\n",
    "# adds a number to each value where lable IS EQUAL to model prediction.  \n",
    "            input +=1\n",
    "# take the total inputs above and divide by the total number in the range.  In this example it would be 17/20 = 0.85\n",
    "    input = input/len(labels)\n",
    "    return input\n"
   ]
  },
  {
   "cell_type": "markdown",
   "metadata": {},
   "source": [
    "Next, compute the accuracy score using your function `acc_score`, and pass as input the true labels and the model predictions you calculated above.  Create a list called `labels` containing the target values listed in the problem statement above."
   ]
  },
  {
   "cell_type": "code",
   "execution_count": 4,
   "metadata": {},
   "outputs": [
    {
     "name": "stdout",
     "output_type": "stream",
     "text": [
      "Model Accuracy:  0.85\n"
     ]
    }
   ],
   "source": [
    "# Labels = Target values from instructions at the top of the page\n",
    "labels = [1,0,0,1,0,0,1,0,0,1,1,0,0,0,0,1,0,1,0,1]\n",
    "\n",
    "# accuracy = target values from instructions on top compared to the model prediction values from first claculation \n",
    "accuracy = acc_score(labels, preds)\n",
    "print(\"Model Accuracy: \", accuracy)"
   ]
  },
  {
   "cell_type": "markdown",
   "metadata": {},
   "source": [
    "Next, use the Scikit-Learn's [accuracy_score()](https://scikit-learn.org/stable/modules/generated/sklearn.metrics.accuracy_score.html) function to check that the value you computed using `acc_score()` is correct."
   ]
  },
  {
   "cell_type": "code",
   "execution_count": 5,
   "metadata": {},
   "outputs": [
    {
     "name": "stdout",
     "output_type": "stream",
     "text": [
      "0.85\n"
     ]
    }
   ],
   "source": [
    "# This process skips the acc_score function.  It uses Scikit learn to use the orginal target values (labels) from the top of\n",
    "# the page and the predicted values (preds) from the predict() function\n",
    "from sklearn.metrics import accuracy_score\n",
    "\n",
    "print (accuracy_score(labels, preds))\n"
   ]
  },
  {
   "cell_type": "markdown",
   "metadata": {},
   "source": [
    "# Calculate the Model Error Rate\n",
    "\n",
    "Write a function from scratch called `error_rate()` that accepts as input a list of true labels and a list of model predictions, and calculates the model error rate.  Your `error_rate()` function should use the `acc_score()` function you previosuly defined."
   ]
  },
  {
   "cell_type": "code",
   "execution_count": 6,
   "metadata": {},
   "outputs": [],
   "source": [
    "# define function for error rate = 1- accuracy score.  In this case 0.15\n",
    "\n",
    "def error_rate(true_values, model_prediction):\n",
    "    error = 1 - accuracy\n",
    "    return error\n",
    "\n",
    "    "
   ]
  },
  {
   "cell_type": "markdown",
   "metadata": {},
   "source": [
    "Next, compute the model error rate for the true labels and the model predictions.  Name the error rate that you calculate `error` in your code."
   ]
  },
  {
   "cell_type": "code",
   "execution_count": 7,
   "metadata": {},
   "outputs": [
    {
     "name": "stdout",
     "output_type": "stream",
     "text": [
      "Model Error Rate:  0.15000000000000002\n"
     ]
    }
   ],
   "source": [
    "# Use the error rate function to the true labels from the top and the model prediction from 1st calcualtions\n",
    "# QUESTION SHOULD I ROUND??\n",
    "error = error_rate(labels, preds)\n",
    "print(\"Model Error Rate: \", error)"
   ]
  },
  {
   "cell_type": "markdown",
   "metadata": {},
   "source": [
    "# Calculate the Model Precision and Recall\n",
    "\n",
    "Write a function from scratch called `prec_recall_score()` that accepts as input a list of true labels and a list of model predictions.  `prec_recall_score()` should compute and return _both_ the model precision and recall.  Do not use the built-in Scikit-Learn functions `precision_score()`,`recall_score()`, `confusion_matrix()`, or Panda's `crosstab()` to do this.  Instead, you may use those functions after to verify your calculations. We want to ensure that you understand what is going on behind-the-scenes of the precision and recall functions by creating similar ones from scratch."
   ]
  },
  {
   "cell_type": "code",
   "execution_count": 8,
   "metadata": {},
   "outputs": [],
   "source": [
    "# define a fucntion prec_recall_score to compare true values (labels) to predicted values (model_prediction)\n",
    "# Below define results of True Postive (TP), True Negative (TN), False Positive (FP), and Fasle Negative (FN)\n",
    "\n",
    "def prec_recall_score(labels, model_prediction):\n",
    "        TP = 0\n",
    "        TN = 0\n",
    "        FP = 0\n",
    "        FN = 0\n",
    "        for i in range(len(labels)):\n",
    "# True postive = true lable 1 AND prediction 1\n",
    "            if labels [i] == 1 and model_prediction [i] == 1:\n",
    "                TP +=1\n",
    "# True negative = true lable 0 AND prediction 0\n",
    "            if labels [i] == 0 and model_prediction [i] == 0:\n",
    "                TN +=1\n",
    "# False postive = true lable 0 minus prediction 1 = -1 \n",
    "            if labels [i] - model_prediction [i] == -1:\n",
    "                FP +=1\n",
    "# False negative = true lable 1 minus prediction 0 = +1\n",
    "            if labels [i] - model_prediction [i] == 1:\n",
    "                FN +=1\n",
    "# formula from lecture\n",
    "        precision = TP / (TP+FP)  \n",
    "        recall = TP / (TP+FN)  \n",
    "        return precision, recall"
   ]
  },
  {
   "cell_type": "markdown",
   "metadata": {},
   "source": [
    "Use your `prec_recall_score` function to compute `precision` and `recall` for the true labels and the model predictions you calculated previously."
   ]
  },
  {
   "cell_type": "code",
   "execution_count": 9,
   "metadata": {},
   "outputs": [
    {
     "name": "stdout",
     "output_type": "stream",
     "text": [
      "Precision =  0.7777777777777778\n",
      "Recall =  0.875\n"
     ]
    }
   ],
   "source": [
    "# call function prec_recall_score and print results\n",
    "precision, recall = prec_recall_score(labels, preds)\n",
    "print(\"Precision = \", precision)\n",
    "print(\"Recall = \", recall)"
   ]
  },
  {
   "cell_type": "markdown",
   "metadata": {},
   "source": [
    "Next, use Scikit-Learn's `precision_score()` and `recall_score()` to verify that your calculations above are correct:"
   ]
  },
  {
   "cell_type": "code",
   "execution_count": 10,
   "metadata": {},
   "outputs": [
    {
     "data": {
      "text/plain": [
       "0.7777777777777778"
      ]
     },
     "execution_count": 10,
     "metadata": {},
     "output_type": "execute_result"
    }
   ],
   "source": [
    "# This next 2 cells skips the prec_recall_score function.  It uses Scikit learn to use the orginal target values (labels) \n",
    "# from the top of the page and the predicted values (preds) from the predict() function\n",
    "\n",
    "from sklearn.metrics import precision_score, recall_score\n",
    "precision_score (labels, preds)"
   ]
  },
  {
   "cell_type": "code",
   "execution_count": 11,
   "metadata": {},
   "outputs": [
    {
     "data": {
      "text/plain": [
       "0.875"
      ]
     },
     "execution_count": 11,
     "metadata": {},
     "output_type": "execute_result"
    }
   ],
   "source": [
    "recall_score (labels, preds)"
   ]
  },
  {
   "cell_type": "markdown",
   "metadata": {},
   "source": [
    "# Calculate $F_\\beta$ Scores\n",
    "\n",
    "Write a function from scratch called `f_beta` that computes the $F_\\beta$ measure for any value of $\\beta$.  This function must invoke the `prec_recall_score` function you wrote above in order to obtain the values for precision and recall.  The function must take as input (in this exact order) the true labels provided, the model predictions you calculated previously, and the value of $\\beta$ you wish to use in the calculation.  We defined $F_\\beta$ in class to be:\n",
    "\n",
    "$$ F_\\beta = \\frac{(\\beta^2+1) \\cdot Pr \\cdot Re}{\\beta^2 \\cdot Pr + Re} $$"
   ]
  },
  {
   "cell_type": "code",
   "execution_count": 12,
   "metadata": {},
   "outputs": [],
   "source": [
    "# define f_beta function\n",
    "def f_beta (labels, model_prediction, beta_value):\n",
    "    f_beta = 0\n",
    "\n",
    "# call the prec_recall_score fucntion from above    \n",
    "    precision, recall = prec_recall_score(labels, preds)\n",
    "\n",
    "# formula above for f_beta    \n",
    "    f_beta = ((beta_value**2 +1) * precision * recall) / (beta_value**2 * precision + recall)\n",
    "    return f_beta"
   ]
  },
  {
   "cell_type": "markdown",
   "metadata": {},
   "source": [
    "Next, use your `f_beta` function to compute the $F_1$ score for the true labels and the model predictions you calculated previously."
   ]
  },
  {
   "cell_type": "code",
   "execution_count": 13,
   "metadata": {},
   "outputs": [
    {
     "name": "stdout",
     "output_type": "stream",
     "text": [
      "F1 =  0.823529411764706\n"
     ]
    }
   ],
   "source": [
    "# call f_beta function above using values of labels, preds and 1.  I used 1 becaseu it matched the scikit learn value below\n",
    "F1 = f_beta(labels, preds, 1)\n",
    "print(\"F1 = \", F1)"
   ]
  },
  {
   "cell_type": "markdown",
   "metadata": {},
   "source": [
    "Verify your above calculation is correct by invoking Scikit-Learn's `f1_score` function."
   ]
  },
  {
   "cell_type": "code",
   "execution_count": 14,
   "metadata": {},
   "outputs": [
    {
     "data": {
      "text/plain": [
       "0.823529411764706"
      ]
     },
     "execution_count": 14,
     "metadata": {},
     "output_type": "execute_result"
    }
   ],
   "source": [
    "#combine precsion and recall togehter via scikit-learns f1_score function to compare with above\n",
    "from sklearn.metrics import f1_score\n",
    "f1_score (labels, preds)"
   ]
  },
  {
   "cell_type": "markdown",
   "metadata": {},
   "source": [
    "# Calculate the TPR and FPR for ROC Curve\n",
    "\n",
    "In the subsequent cells, you will be asked to plot an ROC curve.  The ROC curve plots the True Positive Rate (TPR, also called recall) against the False Positive Rate (FPR).  Both of these are scalar values, akin to precision and recall.\n",
    "\n",
    "Write a function from scratch called `TPR_FPR_score` that is nearly identical to `prec_recall_score` that you wrote previously, which computes and returns TPR and FPR.\n",
    "\n",
    "TPR and FPR are defined as follows:\n",
    "\n",
    "$$ TPR = recall = \\frac{TP}{TP + FN} $$\n",
    "\n",
    "$$ FPR = \\frac{FP}{FP + TN} $$"
   ]
  },
  {
   "cell_type": "code",
   "execution_count": 15,
   "metadata": {},
   "outputs": [],
   "source": [
    "# similar to the prec_recall_score function.  I just changed the formual outputs and the return values at the bottom\n",
    "def TPR_FPR_score(labels, model_prediction):\n",
    "        TP = 0\n",
    "        TN = 0\n",
    "        FP = 0\n",
    "        FN = 0\n",
    "        for i in range(len(labels)):\n",
    "# True postive = true lable 1 and prediction 1\n",
    "            if labels [i] == 1 and model_prediction [i] == 1:\n",
    "                TP +=1\n",
    "# True negative = true lable 0 and prediction 0\n",
    "            if labels [i] == 0 and model_prediction [i] == 0:\n",
    "                TN +=1\n",
    "# False postive = true lable 0 minus prediction 1 = -1 \n",
    "            if labels [i] - model_prediction [i] == -1:\n",
    "                FP +=1\n",
    "# False negative = true lable 1 minus prediction 0 = +1\n",
    "            if labels [i] - model_prediction [i] == 1:\n",
    "                FN +=1\n",
    "# formula from above\n",
    "        TPR = TP / (TP+FN)\n",
    "        FPR = FP / (FP+TN)   \n",
    "        return TPR, FPR"
   ]
  },
  {
   "cell_type": "markdown",
   "metadata": {},
   "source": [
    "# Compute and Plot the ROC Curve\n",
    "\n",
    "Write a function from scratch called `roc_curve_computer` that accepts (in this exact order) as input the true labels and prediction probabilities provided in the problem statement, as well as a list of threshold values.  The function must compute and return the True Positive Rate (TPR, also called recall) and the False Positive Rate (FPR) (these are both scalar values) for each threshold value in the list that is passed to the function.  \n",
    "\n",
    "The TPR will be plotted against the FPR in what is called the Receiver Operating Characteristic (ROC) curve. Your task now is to create the plot of the [ROC](https://scikit-learn.org/stable/auto_examples/model_selection/plot_roc.html). \n",
    "\n",
    "The function you will write behaves identically to Scikit-Learn's [roc_curve](https://scikit-learn.org/stable/modules/generated/sklearn.metrics.roc_curve.html#sklearn.metrics.roc_curve) function, except that it will take the list of thresholds in as input rather than return them as output.  Your function must calculate one value of TPR and one value of FPR for each of the threshold values in the list.  You will then take these TPR and FPR values, and plot them against each other to create the ROC curve.\n",
    "\n",
    "You must not use any built-in library function to perform the calculation of a performance metric.  You may of course use common, built-in Python functions, such as: `range()`, `len()`, et cetera.\n",
    "\n",
    "Be sure to reuse functions and code segments from your work above!\n",
    "\n",
    "As an example, calling the `roc_curve_computer` function with the input `true_labels = [1, 0, 1, 0, 0]`, `pred_probs = [0.875, 0.325, 0.6, 0.09, 0.4]`, and `thresholds = [0.00, 0.25, 0.50, 0.75, 1.00]` yields the output `TPR =  [1.0, 1.0, 1.0, 0.5, 0.0]` and `FPR =  [1.0, 0.6666, 0.0, 0.0, 0.0]`."
   ]
  },
  {
   "cell_type": "code",
   "execution_count": 16,
   "metadata": {},
   "outputs": [],
   "source": [
    "def roc_curve_computer(labels,prob,thres):\n",
    "# created a list\n",
    "    tpr_list = []\n",
    "    fpr_list = []\n",
    "# set range equal to the number of items in the threshold.  So will create 101 TPR and FPR results  \n",
    "    for i in range(len(thres)):\n",
    "# call predict function from above to predict probablities from thresholds \n",
    "        preds = predict(prob,thres[i])\n",
    "# inserted the try / except block becaseu I was getting a divide by zero error\n",
    "        try:\n",
    "# calling TPR_FPR function previously created\n",
    "            tpr, fpr = TPR_FPR_score(labels, preds)\n",
    "            tpr_list.append(tpr)\n",
    "            fpr_list.append(fpr)\n",
    "        except ZeroDivisionError:\n",
    "            tpr,fpr = 0,0\n",
    "    return tpr_list,fpr_list"
   ]
  },
  {
   "cell_type": "markdown",
   "metadata": {},
   "source": [
    "Next, use your `roc_curve_computer` function along with the threshold values `thresholds = [x/100 for x in range(101)]` to compute the TPR and FPR lists for the provided data."
   ]
  },
  {
   "cell_type": "code",
   "execution_count": 17,
   "metadata": {
    "scrolled": false
   },
   "outputs": [],
   "source": [
    "# provided from the download\n",
    "thresholds = [x/100 for x in range(101)]\n",
    "TPR, FPR = roc_curve_computer(labels, probs, thresholds)"
   ]
  },
  {
   "cell_type": "markdown",
   "metadata": {},
   "source": [
    "Use the following funtion to plot the ROC curve.  Pass the FPR and TPR that you calculated above as into to the function."
   ]
  },
  {
   "cell_type": "code",
   "execution_count": 18,
   "metadata": {},
   "outputs": [
    {
     "data": {
      "image/png": "[encoded data removed]",
      "text/plain": [
       "<Figure size 432x288 with 1 Axes>"
      ]
     },
     "metadata": {
      "needs_background": "light"
     },
     "output_type": "display_data"
    }
   ],
   "source": [
    "# import matplotlib for plotting.  \n",
    "import matplotlib as mpl\n",
    "import matplotlib.pyplot as plt\n",
    "\n",
    "# provided from the download\n",
    "def plot_roc_curve(fpr, tpr, label=None):\n",
    "    plt.plot(fpr, tpr, linewidth=2, label=label)\n",
    "    plt.plot([0, 1], [0, 1], 'k--') # dashed diagonal line\n",
    "    plt.title('Receiver Operating Characteristic', fontsize=12)\n",
    "    plt.axis([-0.015, 1.0, 0, 1.02])\n",
    "    plt.xlabel('False Positive Rate (Fall-Out)', fontsize=12)\n",
    "    plt.ylabel('True Positive Rate (Recall)', fontsize=12)\n",
    "    plt.grid(True)\n",
    "\n",
    "plt.figure(figsize=(6, 4))\n",
    "plot_roc_curve(FPR, TPR)\n",
    "plt.show()"
   ]
  },
  {
   "cell_type": "markdown",
   "metadata": {},
   "source": [
    "Next, compare your plot to the plot generated by Scikit-Learns `roc_curve` function.  Use Scikit-Learns `roc_curve` function to calculate the false positive rates and the true positive rates."
   ]
  },
  {
   "cell_type": "code",
   "execution_count": 19,
   "metadata": {},
   "outputs": [],
   "source": [
    "# From scikit learn the roc_curve function \n",
    "from sklearn.metrics import roc_curve\n",
    "fpr, tpr, thresholds = roc_curve (labels, probs)"
   ]
  },
  {
   "cell_type": "markdown",
   "metadata": {},
   "source": [
    "Pass the false positive rates and the true positive rates obtained above via the Scikit-Learn functions as input to the `plot_roc_curve` function in order to compare ROC curves:"
   ]
  },
  {
   "cell_type": "code",
   "execution_count": 20,
   "metadata": {},
   "outputs": [
    {
     "data": {
      "image/png": "[encoded data removed]",
      "text/plain": [
       "<Figure size 432x288 with 1 Axes>"
      ]
     },
     "metadata": {
      "needs_background": "light"
     },
     "output_type": "display_data"
    }
   ],
   "source": [
    "# provided from the download\n",
    "plt.figure(figsize=(6, 4))\n",
    "plot_roc_curve(fpr, tpr)\n",
    "plt.show()"
   ]
  },
  {
   "cell_type": "code",
   "execution_count": null,
   "metadata": {},
   "outputs": [],
   "source": []
  }
 ],
 "metadata": {
  "kernelspec": {
   "display_name": "Python 3",
   "language": "python",
   "name": "python3"
  },
  "language_info": {
   "codemirror_mode": {
    "name": "ipython",
    "version": 3
   },
   "file_extension": ".py",
   "mimetype": "text/x-python",
   "name": "python",
   "nbconvert_exporter": "python",
   "pygments_lexer": "ipython3",
   "version": "3.8.8"
  }
 },
 "nbformat": 4,
 "nbformat_minor": 2
}
